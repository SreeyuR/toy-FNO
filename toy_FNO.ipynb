{
 "cells": [
  {
   "cell_type": "markdown",
   "id": "a8e19124",
   "metadata": {},
   "source": [
    "# Toy FNO Model\n",
    "Predicting the evolution of a velocity field"
   ]
  },
  {
   "cell_type": "code",
   "execution_count": 3,
   "id": "3d5b37ab",
   "metadata": {},
   "outputs": [],
   "source": [
    "TEST_MODE = True\n",
    "num_train_samples = 200 # total: 36k\n",
    "num_test_samples = 20 # total: 4k"
   ]
  },
  {
   "cell_type": "code",
   "execution_count": 7,
   "id": "527ff6b9",
   "metadata": {},
   "outputs": [],
   "source": [
    "import torch\n",
    "from neuralop.models.fno import FNO\n",
    "import torch.optim as optim\n",
    "from torch.optim.lr_scheduler import StepLR\n",
    "from torch.utils.data import DataLoader, TensorDataset\n",
    "import matplotlib.pyplot as plt\n",
    "import json\n",
    "import os\n",
    "import wandb"
   ]
  },
  {
   "cell_type": "code",
   "execution_count": 8,
   "id": "a329ead2",
   "metadata": {},
   "outputs": [
    {
     "name": "stderr",
     "output_type": "stream",
     "text": [
      "Failed to detect the name of this notebook, you can set it manually with the WANDB_NOTEBOOK_NAME environment variable to enable code saving.\n"
     ]
    },
    {
     "name": "stderr",
     "output_type": "stream",
     "text": [
      "\u001b[34m\u001b[1mwandb\u001b[0m: Currently logged in as: \u001b[33msreeyutha-ratala\u001b[0m (\u001b[33msreeyutha-ratala-caltech\u001b[0m). Use \u001b[1m`wandb login --relogin`\u001b[0m to force relogin\n"
     ]
    },
    {
     "data": {
      "text/plain": [
       "True"
      ]
     },
     "execution_count": 8,
     "metadata": {},
     "output_type": "execute_result"
    }
   ],
   "source": [
    "wandb.login()"
   ]
  },
  {
   "cell_type": "code",
   "execution_count": 10,
   "id": "2f423a2a",
   "metadata": {},
   "outputs": [],
   "source": [
    "# set parameters\n",
    "epochs = 10 # TODO CHANGE!\n",
    "learning_rate = 0.001 #initial\n",
    "batch_size = 16"
   ]
  },
  {
   "cell_type": "code",
   "execution_count": 11,
   "id": "40107340",
   "metadata": {},
   "outputs": [
    {
     "data": {
      "text/html": [
       "Tracking run with wandb version 0.17.4"
      ],
      "text/plain": [
       "<IPython.core.display.HTML object>"
      ]
     },
     "metadata": {},
     "output_type": "display_data"
    },
    {
     "data": {
      "text/html": [
       "Run data is saved locally in <code>/central/groups/tensorlab/sratala/wandb/run-20240717_152908-mnqt8yd8</code>"
      ],
      "text/plain": [
       "<IPython.core.display.HTML object>"
      ]
     },
     "metadata": {},
     "output_type": "display_data"
    },
    {
     "data": {
      "text/html": [
       "Syncing run <strong><a href='https://wandb.ai/sreeyutha-ratala-caltech/toy-fno/runs/mnqt8yd8' target=\"_blank\">swept-wind-8</a></strong> to <a href='https://wandb.ai/sreeyutha-ratala-caltech/toy-fno' target=\"_blank\">Weights & Biases</a> (<a href='https://wandb.me/run' target=\"_blank\">docs</a>)<br/>"
      ],
      "text/plain": [
       "<IPython.core.display.HTML object>"
      ]
     },
     "metadata": {},
     "output_type": "display_data"
    },
    {
     "data": {
      "text/html": [
       " View project at <a href='https://wandb.ai/sreeyutha-ratala-caltech/toy-fno' target=\"_blank\">https://wandb.ai/sreeyutha-ratala-caltech/toy-fno</a>"
      ],
      "text/plain": [
       "<IPython.core.display.HTML object>"
      ]
     },
     "metadata": {},
     "output_type": "display_data"
    },
    {
     "data": {
      "text/html": [
       " View run at <a href='https://wandb.ai/sreeyutha-ratala-caltech/toy-fno/runs/mnqt8yd8' target=\"_blank\">https://wandb.ai/sreeyutha-ratala-caltech/toy-fno/runs/mnqt8yd8</a>"
      ],
      "text/plain": [
       "<IPython.core.display.HTML object>"
      ]
     },
     "metadata": {},
     "output_type": "display_data"
    },
    {
     "data": {
      "text/html": [
       "<button onClick=\"this.nextSibling.style.display='block';this.style.display='none';\">Display W&B run</button><iframe src='https://wandb.ai/sreeyutha-ratala-caltech/toy-fno/runs/mnqt8yd8?jupyter=true' style='border:none;width:100%;height:420px;display:none;'></iframe>"
      ],
      "text/plain": [
       "<wandb.sdk.wandb_run.Run at 0x7f590ba7bc40>"
      ]
     },
     "execution_count": 11,
     "metadata": {},
     "output_type": "execute_result"
    }
   ],
   "source": [
    "# monitor model's progress\n",
    "# start a new wandb run to track this script\n",
    "wandb.init(\n",
    "    # set the wandb project where this run will be logged\n",
    "    project=\"toy-fno\",\n",
    "\n",
    "    # track hyperparameters and run metadata\n",
    "    config={\n",
    "    \"learning_rate\": learning_rate,\n",
    "    \"architecture\": \"FNO\",\n",
    "    \"dataset\": \"toy FNO dataset\",\n",
    "    \"epochs\": epochs,\n",
    "    \"batch_size\": batch_size\n",
    "    }\n",
    ")"
   ]
  },
  {
   "cell_type": "code",
   "execution_count": 12,
   "id": "cb7049f9",
   "metadata": {},
   "outputs": [
    {
     "name": "stdout",
     "output_type": "stream",
     "text": [
      "Using device: cpu\n"
     ]
    }
   ],
   "source": [
    "device = torch.device(\"cuda\" if torch.cuda.is_available() else \"cpu\")\n",
    "print(f\"Using device: {device}\")"
   ]
  },
  {
   "cell_type": "code",
   "execution_count": 15,
   "id": "7d2cb985",
   "metadata": {},
   "outputs": [],
   "source": [
    "# save model\n",
    "checkpoint_dir = './checkpoints/'\n",
    "os.makedirs(checkpoint_dir, exist_ok=True)"
   ]
  },
  {
   "cell_type": "code",
   "execution_count": 16,
   "id": "9b427574",
   "metadata": {},
   "outputs": [],
   "source": [
    "# load data\n",
    "data = torch.load('./Data.pt')\n",
    "train_input = data[\"train_in\"]\n",
    "train_output = data[\"train_sol\"]\n",
    "test_input = data[\"test_in\"]\n",
    "test_output = data[\"test_sol\"]"
   ]
  },
  {
   "cell_type": "code",
   "execution_count": 17,
   "id": "4849f614",
   "metadata": {},
   "outputs": [
    {
     "name": "stdout",
     "output_type": "stream",
     "text": [
      "torch.Size([36000, 2, 64, 64])\n",
      "torch.Size([4000, 2, 64, 64])\n"
     ]
    }
   ],
   "source": [
    "print(train_input.shape)  # (N, 2, 64, 64)\n",
    "print(test_output.shape)  # (N, 2, 64, 64)"
   ]
  },
  {
   "cell_type": "code",
   "execution_count": 18,
   "id": "04fa2563",
   "metadata": {},
   "outputs": [],
   "source": [
    "train_input = train_input[:num_train_samples]\n",
    "train_output = train_output[:num_train_samples]\n",
    "test_input = test_input[:num_test_samples]\n",
    "test_output = test_output[:num_test_samples]"
   ]
  },
  {
   "cell_type": "code",
   "execution_count": 19,
   "id": "b40b0d9e",
   "metadata": {},
   "outputs": [],
   "source": [
    "# define and instantiate: loss and model\n",
    "class L2Loss(object): # L2 norm on functions (normalize by number of grid points)\n",
    "    # loss returns the sum over all the samples in the current batch\n",
    "    def __init__(self,):\n",
    "        super(L2Loss, self).__init__()\n",
    "    \n",
    "    def __call__(self, x, y):\n",
    "        num_examples = x.size()[0]\n",
    "        diff_norms = torch.norm(x.reshape(num_examples,-1) - y.reshape(num_examples,-1), 2, 1)\n",
    "        y_norms = torch.norm(y.reshape(num_examples,-1), 2, 1)\n",
    "        return torch.sum(diff_norms / y_norms)\n",
    "\n",
    "#           fourier transform: freq modes                        x & y component of vector field\n",
    "model = FNO(n_modes=(16, 16), hidden_channels=64, in_channels=2, out_channels=2) # discretization invariant (uniform grid)\n",
    "model.to(device)\n",
    "criterion = L2Loss()\n",
    "\n",
    "optimizer = optim.Adam(model.parameters(), lr=learning_rate)\n",
    "scheduler = StepLR(optimizer, step_size=50, gamma=0.5)  # Adjust lr every 50 epochs by multiplying with gamma; cos scheduler"
   ]
  },
  {
   "cell_type": "code",
   "execution_count": 20,
   "id": "eabef3c7",
   "metadata": {},
   "outputs": [],
   "source": [
    "train_dataset = TensorDataset(train_input, train_output)\n",
    "train_loader = DataLoader(train_dataset, batch_size=batch_size, shuffle=True)\n",
    "test_dataset = TensorDataset(test_input, test_output)\n",
    "test_loader = DataLoader(test_dataset, batch_size=batch_size, shuffle=False)"
   ]
  },
  {
   "cell_type": "code",
   "execution_count": 22,
   "id": "59c8484d",
   "metadata": {},
   "outputs": [
    {
     "name": "stdout",
     "output_type": "stream",
     "text": [
      "Epoch 1, Train Loss: 0.0648, Test Loss: 0.1532\n",
      "Epoch 2, Train Loss: 0.0631, Test Loss: 0.1530\n",
      "Epoch 3, Train Loss: 0.0623, Test Loss: 0.1509\n",
      "Epoch 4, Train Loss: 0.0621, Test Loss: 0.1518\n",
      "Epoch 5, Train Loss: 0.0603, Test Loss: 0.1522\n",
      "Epoch 6, Train Loss: 0.0600, Test Loss: 0.1525\n",
      "Epoch 7, Train Loss: 0.0606, Test Loss: 0.1503\n",
      "Epoch 8, Train Loss: 0.0623, Test Loss: 0.1539\n",
      "Epoch 9, Train Loss: 0.0602, Test Loss: 0.1563\n",
      "Epoch 10, Train Loss: 0.0602, Test Loss: 0.1546\n",
      "Saved checkpoint at epoch 10\n"
     ]
    }
   ],
   "source": [
    "# train and test model at each epoch\n",
    "train_losses = []\n",
    "test_losses = []\n",
    "\n",
    "for epoch in range(epochs):\n",
    "    model.train()\n",
    "    running_loss = 0.0\n",
    "    for inputs, targets in train_loader:\n",
    "        inputs, targets = inputs.to(device), targets.to(device)\n",
    "        optimizer.zero_grad()\n",
    "        outputs = model(inputs)        \n",
    "        loss = criterion(outputs, targets)\n",
    "        loss.backward()\n",
    "        optimizer.step()\n",
    "        running_loss += loss.item()\n",
    "    epoch_train_loss = running_loss / num_train_samples\n",
    "    train_losses.append(epoch_train_loss)\n",
    "\n",
    "    model.eval()\n",
    "    val_loss = 0.0\n",
    "    with torch.no_grad():\n",
    "        for inputs, targets in test_loader:\n",
    "            inputs, targets = inputs.to(device), targets.to(device)\n",
    "            outputs = model(inputs)\n",
    "            loss = criterion(outputs, targets)\n",
    "            val_loss += loss.item()\n",
    "    epoch_test_loss = val_loss / num_test_samples\n",
    "    test_losses.append(epoch_test_loss)\n",
    "    \n",
    "    scheduler.step()  # Update learning rate scheduler\n",
    "    \n",
    "    wandb.log({\"epoch\": epoch, \"train_loss\": epoch_train_loss, \"test_loss\": epoch_test_loss, \"learning_rate\": optimizer.param_groups[0]['lr']}) # log metrics to wandb\n",
    "\n",
    "\n",
    "    if TEST_MODE:\n",
    "        print(f\"Epoch {epoch+1}, Train Loss: {epoch_train_loss:.4f}, Test Loss: {epoch_test_loss:.4f}\")\n",
    "    #else: # Save checkpoint\n",
    "        if (epoch + 1) % 10 == 0:  # Save every 10 epochs\n",
    "            checkpoint_path = os.path.join(checkpoint_dir, f'checkpoint_epoch_{epoch+1}.pt')\n",
    "            torch.save({\n",
    "                'epoch': epoch,\n",
    "                'model_state_dict': model.state_dict(),\n",
    "                'optimizer_state_dict': optimizer.state_dict(),\n",
    "                'scheduler_state_dict': scheduler.state_dict(),\n",
    "                'train_losses': train_losses,\n",
    "                'test_losses': test_losses,\n",
    "            }, checkpoint_path)\n",
    "            # save model checkpoint to wandb\n",
    "            artifact = wandb.Artifact('model-checkpoints', type='model')\n",
    "            artifact.add_file(checkpoint_path)\n",
    "            wandb.log_artifact(artifact)\n",
    "            print(f'Saved checkpoint at epoch {epoch+1}')"
   ]
  },
  {
   "cell_type": "code",
   "execution_count": 23,
   "id": "94be30bf",
   "metadata": {},
   "outputs": [
    {
     "data": {
      "image/png": "[encoded data removed]",
      "text/plain": [
       "<Figure size 1000x500 with 1 Axes>"
      ]
     },
     "metadata": {},
     "output_type": "display_data"
    }
   ],
   "source": [
    "# Plot train and test losses\n",
    "plt.figure(figsize=(10, 5))\n",
    "plt.plot(range(1, epochs + 1), train_losses, label='Train Loss')\n",
    "plt.plot(range(1, epochs + 1), test_losses, label='Test Loss')\n",
    "plt.xlabel('Epoch')\n",
    "plt.ylabel('Loss')\n",
    "plt.title('Training and Test Loss per Epoch')\n",
    "plt.legend()\n",
    "if not TEST_MODE:\n",
    "    plt.savefig('train_test_loss_per_epoch')\n",
    "else:\n",
    "    plt.show()\n",
    "\n",
    "# TODO: modifying hyperparameters: n_modes, width, epochs, learning_rate, batch_size. Grid search?"
   ]
  },
  {
   "cell_type": "code",
   "execution_count": 24,
   "id": "5b625fdf",
   "metadata": {},
   "outputs": [],
   "source": [
    "# Save the losses to a file\n",
    "if not TEST_MODE:\n",
    "    losses = {\n",
    "        'train_losses': train_losses,\n",
    "        'test_losses': test_losses\n",
    "    }\n",
    "    with open('losses.json', 'w') as f:\n",
    "        json.dump(losses, f)"
   ]
  },
  {
   "cell_type": "code",
   "execution_count": 25,
   "id": "53a438a5",
   "metadata": {},
   "outputs": [
    {
     "data": {
      "text/html": [
       "<style>\n",
       "    table.wandb td:nth-child(1) { padding: 0 10px; text-align: left ; width: auto;} td:nth-child(2) {text-align: left ; width: 100%}\n",
       "    .wandb-row { display: flex; flex-direction: row; flex-wrap: wrap; justify-content: flex-start; width: 100% }\n",
       "    .wandb-col { display: flex; flex-direction: column; flex-basis: 100%; flex: 1; padding: 10px; }\n",
       "    </style>\n",
       "<div class=\"wandb-row\"><div class=\"wandb-col\"><h3>Run history:</h3><br/><table class=\"wandb\"><tr><td>epoch</td><td>▁▂▃▃▄▅▆▆▇█▁▂▃▃▄▅▆▆▇█</td></tr><tr><td>learning_rate</td><td>▁▁▁▁▁▁▁▁▁▁▁▁▁▁▁▁▁▁▁▁</td></tr><tr><td>test_loss</td><td>█▅▄▄▄▄▄▄▄▄▁▁▁▁▁▁▁▁▁▁</td></tr><tr><td>train_loss</td><td>█▃▂▁▁▁▁▁▁▁▁▁▁▁▁▁▁▁▁▁</td></tr></table><br/></div><div class=\"wandb-col\"><h3>Run summary:</h3><br/><table class=\"wandb\"><tr><td>epoch</td><td>9</td></tr><tr><td>learning_rate</td><td>0.001</td></tr><tr><td>test_loss</td><td>0.15459</td></tr><tr><td>train_loss</td><td>0.06021</td></tr></table><br/></div></div>"
      ],
      "text/plain": [
       "<IPython.core.display.HTML object>"
      ]
     },
     "metadata": {},
     "output_type": "display_data"
    },
    {
     "data": {
      "text/html": [
       " View run <strong style=\"color:#cdcd00\">swept-wind-8</strong> at: <a href='https://wandb.ai/sreeyutha-ratala-caltech/toy-fno/runs/mnqt8yd8' target=\"_blank\">https://wandb.ai/sreeyutha-ratala-caltech/toy-fno/runs/mnqt8yd8</a><br/> View project at: <a href='https://wandb.ai/sreeyutha-ratala-caltech/toy-fno' target=\"_blank\">https://wandb.ai/sreeyutha-ratala-caltech/toy-fno</a><br/>Synced 6 W&B file(s), 0 media file(s), 2 artifact file(s) and 0 other file(s)"
      ],
      "text/plain": [
       "<IPython.core.display.HTML object>"
      ]
     },
     "metadata": {},
     "output_type": "display_data"
    },
    {
     "data": {
      "text/html": [
       "Find logs at: <code>./wandb/run-20240717_152908-mnqt8yd8/logs</code>"
      ],
      "text/plain": [
       "<IPython.core.display.HTML object>"
      ]
     },
     "metadata": {},
     "output_type": "display_data"
    },
    {
     "data": {
      "text/html": [
       "The new W&B backend becomes opt-out in version 0.18.0; try it out with `wandb.require(\"core\")`! See https://wandb.me/wandb-core for more information."
      ],
      "text/plain": [
       "<IPython.core.display.HTML object>"
      ]
     },
     "metadata": {},
     "output_type": "display_data"
    }
   ],
   "source": [
    "wandb.finish()"
   ]
  },
  {
   "cell_type": "markdown",
   "id": "cba39fd0",
   "metadata": {},
   "source": [
    "## Visualize Dataset"
   ]
  },
  {
   "cell_type": "code",
   "execution_count": 26,
   "id": "6485887e",
   "metadata": {},
   "outputs": [
    {
     "ename": "ModuleNotFoundError",
     "evalue": "No module named 'seaborn'",
     "output_type": "error",
     "traceback": [
      "\u001b[0;31m---------------------------------------------------------------------------\u001b[0m",
      "\u001b[0;31mModuleNotFoundError\u001b[0m                       Traceback (most recent call last)",
      "Cell \u001b[0;32mIn[26], line 1\u001b[0m\n\u001b[0;32m----> 1\u001b[0m \u001b[38;5;28;01mimport\u001b[39;00m \u001b[38;5;21;01mseaborn\u001b[39;00m \u001b[38;5;28;01mas\u001b[39;00m \u001b[38;5;21;01msns\u001b[39;00m\n\u001b[1;32m      3\u001b[0m \u001b[38;5;66;03m# test_input has shape (N, 2, 64, 64)\u001b[39;00m\n\u001b[1;32m      4\u001b[0m sample_index \u001b[38;5;241m=\u001b[39m \u001b[38;5;241m0\u001b[39m \n",
      "\u001b[0;31mModuleNotFoundError\u001b[0m: No module named 'seaborn'"
     ]
    }
   ],
   "source": [
    "import seaborn as sns\n",
    "\n",
    "# test_input has shape (N, 2, 64, 64)\n",
    "sample_index = 0 \n",
    "\n",
    "# Plot x-component of velocity (channel 0)\n",
    "plt.figure(figsize=(8, 4))\n",
    "plt.subplot(1, 2, 1)\n",
    "plt.imshow(test_input[sample_index, 0], cmap=sns.cm.icefire)  # Assuming test_input is a torch tensor\n",
    "plt.colorbar()\n",
    "plt.title('X-component of Velocity')\n",
    "\n",
    "# Plot y-component of velocity (channel 1)\n",
    "plt.subplot(1, 2, 2)\n",
    "plt.imshow(test_input[sample_index, 1], cmap=sns.cm.icefire)  # Assuming test_input is a torch tensor\n",
    "plt.colorbar()\n",
    "plt.title('Y-component of Velocity')\n",
    "\n",
    "plt.tight_layout()\n",
    "plt.show()\n"
   ]
  }
 ],
 "metadata": {
  "kernelspec": {
   "display_name": "fusion",
   "language": "python",
   "name": "python3"
  },
  "language_info": {
   "codemirror_mode": {
    "name": "ipython",
    "version": 3
   },
   "file_extension": ".py",
   "mimetype": "text/x-python",
   "name": "python",
   "nbconvert_exporter": "python",
   "pygments_lexer": "ipython3",
   "version": "3.9.19"
  }
 },
 "nbformat": 4,
 "nbformat_minor": 5
}
