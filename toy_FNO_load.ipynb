{
 "cells": [
  {
   "cell_type": "code",
   "execution_count": 1,
   "metadata": {},
   "outputs": [
    {
     "name": "stdout",
     "output_type": "stream",
     "text": [
      "Average Test Loss: 28.8515\n"
     ]
    }
   ],
   "source": [
    "import torch\n",
    "from neuralop.models.fno import FNO\n",
    "import torch.optim as optim\n",
    "from torch.optim.lr_scheduler import StepLR\n",
    "from torch.utils.data import DataLoader, TensorDataset\n",
    "import json\n",
    "import os\n",
    "\n",
    "# Load the model architecture\n",
    "model = FNO(n_modes=(16, 16), hidden_channels=64, in_channels=2, out_channels=2)\n",
    "\n",
    "# Device configuration\n",
    "device = torch.device(\"cuda\" if torch.cuda.is_available() else \"cpu\")\n",
    "model.to(device)\n",
    "\n",
    "# Load optimizer and scheduler\n",
    "optimizer = optim.Adam(model.parameters(), lr=0.001)\n",
    "scheduler = StepLR(optimizer, step_size=50, gamma=0.1)\n",
    "\n",
    "# Load a specific epoch checkpoint (e.g., epoch 10)\n",
    "checkpoint_path = './checkpoints/checkpoint_epoch_10.pt'\n",
    "checkpoint = torch.load(checkpoint_path)\n",
    "model.load_state_dict(checkpoint['model_state_dict'])\n",
    "optimizer.load_state_dict(checkpoint['optimizer_state_dict'])\n",
    "scheduler.load_state_dict(checkpoint['scheduler_state_dict'])\n",
    "\n",
    "# Load data\n",
    "data = torch.load('./Data.pt')\n",
    "test_input = data[\"test_in\"]\n",
    "test_output = data[\"test_sol\"]\n",
    "\n",
    "test_dataset = TensorDataset(test_input, test_output)\n",
    "test_loader = DataLoader(test_dataset, batch_size=256, shuffle=False)\n",
    "\n",
    "# define and instantiate: loss and model\n",
    "class L2Loss(object):\n",
    "    # loss returns the sum over all the samples in the current batch\n",
    "    def __init__(self,):\n",
    "        super(L2Loss, self).__init__()\n",
    "    \n",
    "    def __call__(self, x, y):\n",
    "        num_examples = x.size()[0]\n",
    "        diff_norms = torch.norm(x.reshape(num_examples,-1) - y.reshape(num_examples,-1), 2, 1)\n",
    "        y_norms = torch.norm(y.reshape(num_examples,-1), 2, 1)\n",
    "        return torch.sum(diff_norms / y_norms)\n",
    "\n",
    "\n",
    "# Evaluate the model\n",
    "model.eval()\n",
    "test_loss = 0.0\n",
    "criterion = L2Loss()  # Assuming you've defined L2Loss similarly\n",
    "\n",
    "with torch.no_grad():\n",
    "    for inputs, targets in test_loader:\n",
    "        inputs, targets = inputs.to(device), targets.to(device)\n",
    "        outputs = model(inputs)\n",
    "        loss = criterion(outputs, targets)\n",
    "        test_loss += loss.item()\n",
    "\n",
    "avg_test_loss = test_loss / len(test_loader)\n",
    "print(len(test_loader))\n",
    "print(f\"Average Test Loss: {avg_test_loss:.4f}\")\n"
   ]
  },
  {
   "cell_type": "code",
   "execution_count": null,
   "metadata": {},
   "outputs": [],
   "source": []
  }
 ],
 "metadata": {
  "kernelspec": {
   "display_name": "fusion",
   "language": "python",
   "name": "python3"
  },
  "language_info": {
   "codemirror_mode": {
    "name": "ipython",
    "version": 3
   },
   "file_extension": ".py",
   "mimetype": "text/x-python",
   "name": "python",
   "nbconvert_exporter": "python",
   "pygments_lexer": "ipython3",
   "version": "3.9.18"
  }
 },
 "nbformat": 4,
 "nbformat_minor": 2
}
